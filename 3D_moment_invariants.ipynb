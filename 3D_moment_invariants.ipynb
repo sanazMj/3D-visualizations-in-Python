{
  "nbformat": 4,
  "nbformat_minor": 0,
  "metadata": {
    "colab": {
      "name": "3D moment invariants.ipynb",
      "provenance": [],
      "collapsed_sections": []
    },
    "kernelspec": {
      "name": "python3",
      "display_name": "Python 3"
    },
    "language_info": {
      "name": "python"
    }
  },
  "cells": [
    {
      "cell_type": "code",
      "source": [
        "import numpy as np\n",
        "import matplotlib.pyplot as plt\n",
        "from scipy.spatial import ConvexHull, convex_hull_plot_2d, distance"
      ],
      "metadata": {
        "id": "eK-4glasGoys"
      },
      "execution_count": 6,
      "outputs": []
    },
    {
      "cell_type": "code",
      "execution_count": 2,
      "metadata": {
        "id": "y9y0fcb9GkfI"
      },
      "outputs": [],
      "source": [
        "def moment(points, a1, a2, a3):\n",
        "    result = 0\n",
        "    for x,y,z in points:\n",
        "        result += x**a1 * y**a2 * z **a3\n",
        "    return result\n",
        "\n",
        "def moment_invariants(points):\n",
        "    vol = moment(points, 0, 0, 0)\n",
        "    temp200 =  moment(points, 2, 0, 0)\n",
        "    temp020 =  moment(points, 0, 2, 0)\n",
        "    temp002 =  moment(points, 0, 0, 2)\n",
        "    temp110 =  moment(points, 1, 1, 0)\n",
        "    temp101 =  moment(points, 1, 0, 1)\n",
        "    temp011 =  moment(points, 0, 1, 1)\n",
        "    non_normalized_moment1 = temp200 + temp020 + temp002\n",
        "    non_normalized_moment2 = temp200 * temp020 +  temp200*temp002 +  temp020*temp002 -temp110**2 -temp101**2 -temp011**2\n",
        "    non_normalized_moment3 =  temp200 * temp020* temp002 + 2* temp110 * temp101 * temp011 - temp200*temp011**2 -temp020*temp101**2 -temp002 * temp110**2\n",
        "    result = [(3* vol ** (5/3))/non_normalized_moment1,\n",
        "              (3* vol ** (10/3))/non_normalized_moment2,\n",
        "              (vol ** 5)/non_normalized_moment3]\n",
        "    return result\n"
      ]
    },
    {
      "cell_type": "code",
      "source": [
        "def get_points_from_matrix(temp,condition=1, dim_count=3):\n",
        "    temp_indice_specific = np.where(temp==condition)\n",
        "    points = []\n",
        "    if len(temp_indice_specific[0])>0:\n",
        "        tempsize = temp_indice_specific[0].shape[0]\n",
        "        if len(temp.shape)==3:\n",
        "            a = temp_indice_specific[0].reshape(tempsize, 1)\n",
        "            b = temp_indice_specific[1].reshape(tempsize, 1)\n",
        "            c =  temp_indice_specific[2].reshape(tempsize, 1)\n",
        "            points = np.concatenate((a, b, c), axis=1)\n",
        "\n",
        "        elif dim_count==3:\n",
        "            a = temp_indice_specific[1].reshape(tempsize, 1)\n",
        "            b = temp_indice_specific[2].reshape(tempsize, 1)\n",
        "            c = temp_indice_specific[3].reshape(tempsize, 1)\n",
        "            points = np.concatenate((a, b, c), axis=1)\n",
        "\n",
        "        elif dim_count==4:\n",
        "            a1 = temp_indice_specific[0].reshape(tempsize, 1)\n",
        "            a = temp_indice_specific[1].reshape(tempsize, 1)\n",
        "            b = temp_indice_specific[2].reshape(tempsize, 1)\n",
        "            c = temp_indice_specific[3].reshape(tempsize, 1)\n",
        "            points = np.concatenate((a1, a, b, c), axis=1)\n",
        "\n",
        "    return points"
      ],
      "metadata": {
        "id": "k01snX5NH_hh"
      },
      "execution_count": 9,
      "outputs": []
    },
    {
      "cell_type": "code",
      "source": [
        "def create_shape(center, radius, dimension_mat, shape, filled_val=1):\n",
        "    for x in range(center[0] - radius[0], center[0] + radius[0] + 1):\n",
        "      for y in range(center[1] - radius[1], center[1] + radius[1] + 1):\n",
        "          for z in range(center[2] - radius[2], center[2] + radius[2] + 1):\n",
        "              if (0<= x and x<= dimension_mat.shape[0]-1) and  (0<= y and y<= dimension_mat.shape[1]-1) and  (0<= z and z<= dimension_mat.shape[2]-1):\n",
        "\n",
        "                  if shape == 'sphere'  and dimension_mat[x, y, z] == 0 and round(distance.euclidean([x, y, z], center)) <= radius[0]:\n",
        "                    dimension_mat[x, y, z] = filled_val\n",
        "                  elif shape == 'ellipsie' and dimension_mat[x, y, z] == 0:\n",
        "                    a = ((x - center[0]) ** 2) / (radius[0] ** 2)\n",
        "                    b = ((y - center[1]) ** 2) / (radius[1] ** 2)\n",
        "                    c = ((z - center[2]) ** 2) / (radius[2] ** 2)\n",
        "                    if round(a+b+c) <= 1:\n",
        "                      dimension_mat[x, y, z] = filled_val\n",
        "    return dimension_mat"
      ],
      "metadata": {
        "id": "a_auT_UzH1OJ"
      },
      "execution_count": 7,
      "outputs": []
    },
    {
      "cell_type": "code",
      "source": [
        "\n",
        "dimension_mat = np.zeros((15,15,15))\n",
        "temp_sphere = create_shape([5,6,5], [4,4,4], dimension_mat, 'sphere', filled_val=1)\n",
        "points = get_points_from_matrix(temp_sphere, 1)\n",
        "print(moment_invariants(points))\n"
      ],
      "metadata": {
        "colab": {
          "base_uri": "https://localhost:8080/"
        },
        "id": "auZYjZNAH3VY",
        "outputId": "7996ce2a-559a-4712-e7ce-7b39e801e45d"
      },
      "execution_count": 21,
      "outputs": [
        {
          "output_type": "stream",
          "name": "stdout",
          "text": [
            "[1.6261601957528915, 11.265715483256985, 99.76867632872049]\n"
          ]
        }
      ]
    },
    {
      "cell_type": "code",
      "source": [
        ""
      ],
      "metadata": {
        "id": "_QatpMgoIVo-"
      },
      "execution_count": null,
      "outputs": []
    }
  ]
}